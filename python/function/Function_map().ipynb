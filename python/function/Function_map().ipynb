{
 "cells": [
  {
   "cell_type": "markdown",
   "metadata": {},
   "source": [
    "### map(function, iterables)"
   ]
  },
  {
   "cell_type": "code",
   "execution_count": 1,
   "metadata": {},
   "outputs": [],
   "source": [
    "#The map() function executes a specified function for each item in a iterable. The item is sent to the function as a parameter."
   ]
  },
  {
   "cell_type": "code",
   "execution_count": 2,
   "metadata": {},
   "outputs": [],
   "source": [
    "'''--------------------example----------------------\n",
    "You're given strings J representing the types of stones that are jewels, \n",
    "and S representing the stones you have.  Each character in S is a type of stone you have.  \n",
    "You want to know how many of the stones you have are also jewels.\n",
    "The letters in J are guaranteed distinct, and all characters in J and S are letters. Letters are case sensitive, \n",
    "so \"a\" is considered a different type of stone from \"A\".'''\n",
    "\n",
    "#normal method\n",
    "class Solution1:\n",
    "    def numJewelsInStones(self, J: str, S: str) -> int:\n",
    "        j_num = 0\n",
    "        for x in S:\n",
    "            if x in J:\n",
    "                j_num += 1\n",
    "        return j_num\n",
    "    \n",
    "\n",
    "#map()  method\n",
    "class Solution2:\n",
    "    def numJewelsInStones(self, J: str, S: str) -> int:\n",
    "        return sum(map(J.count,S))\n",
    "           \n",
    "\n",
    "\n"
   ]
  }
 ],
 "metadata": {
  "kernelspec": {
   "display_name": "Python 3",
   "language": "python",
   "name": "python3"
  },
  "language_info": {
   "codemirror_mode": {
    "name": "ipython",
    "version": 3
   },
   "file_extension": ".py",
   "mimetype": "text/x-python",
   "name": "python",
   "nbconvert_exporter": "python",
   "pygments_lexer": "ipython3",
   "version": "3.7.1"
  }
 },
 "nbformat": 4,
 "nbformat_minor": 2
}
